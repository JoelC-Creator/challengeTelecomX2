{
  "nbformat": 4,
  "nbformat_minor": 0,
  "metadata": {
    "colab": {
      "provenance": [],
      "toc_visible": true
    },
    "kernelspec": {
      "name": "python3",
      "display_name": "Python 3"
    },
    "language_info": {
      "name": "python"
    }
  },
  "cells": [
    {
      "cell_type": "markdown",
      "source": [
        "# Subiendo archivos e importando bibliotecas"
      ],
      "metadata": {
        "id": "KC6dxOaL4-PV"
      }
    },
    {
      "cell_type": "code",
      "execution_count": 39,
      "metadata": {
        "id": "eClRvgoq474J"
      },
      "outputs": [],
      "source": [
        "import pandas as pd\n",
        "import numpy as np\n",
        "import matplotlib.pyplot as plt\n",
        "import seaborn as sns\n",
        "\n",
        "\n",
        "import warnings\n",
        "warnings.filterwarnings('ignore')\n",
        "\n",
        "from sklearn.preprocessing import MinMaxScaler\n",
        "from sklearn.dummy import DummyClassifier\n",
        "from sklearn.model_selection import train_test_split\n",
        "from sklearn.linear_model import LogisticRegression\n",
        "from sklearn.tree import DecisionTreeClassifier\n",
        "from sklearn.metrics import accuracy_score, precision_score, recall_score, f1_score, confusion_matrix"
      ]
    },
    {
      "cell_type": "code",
      "source": [
        "df = pd.read_csv('/content/datos_tratados.csv')"
      ],
      "metadata": {
        "id": "7B8xO28i5SqN"
      },
      "execution_count": 2,
      "outputs": []
    },
    {
      "cell_type": "code",
      "source": [
        "df.info()"
      ],
      "metadata": {
        "colab": {
          "base_uri": "https://localhost:8080/"
        },
        "id": "MsRKakCs5fr3",
        "outputId": "55140393-785e-4604-bd36-20162c665d7f"
      },
      "execution_count": 3,
      "outputs": [
        {
          "output_type": "stream",
          "name": "stdout",
          "text": [
            "<class 'pandas.core.frame.DataFrame'>\n",
            "RangeIndex: 7043 entries, 0 to 7042\n",
            "Data columns (total 22 columns):\n",
            " #   Column                   Non-Null Count  Dtype  \n",
            "---  ------                   --------------  -----  \n",
            " 0   id_cliente               7043 non-null   object \n",
            " 1   perdida                  7043 non-null   int64  \n",
            " 2   genero                   7043 non-null   object \n",
            " 3   ciudadano_Mayor          7043 non-null   int64  \n",
            " 4   socio                    7043 non-null   int64  \n",
            " 5   dependientes             7043 non-null   int64  \n",
            " 6   antiguedad               7043 non-null   int64  \n",
            " 7   servicio_telefonico      7043 non-null   int64  \n",
            " 8   lineas_multiples         7043 non-null   object \n",
            " 9   servicio_internet        7043 non-null   object \n",
            " 10  seguridad_online         7043 non-null   object \n",
            " 11  copia_seguridad_online   7043 non-null   object \n",
            " 12  proteccion_dispositivo   7043 non-null   object \n",
            " 13  soporte_tecnico          7043 non-null   object \n",
            " 14  streaming_tv             7043 non-null   object \n",
            " 15  streaming_peliculas      7043 non-null   object \n",
            " 16  contrato                 7043 non-null   object \n",
            " 17  facturacion_electronica  7043 non-null   int64  \n",
            " 18  metodo_pago              7043 non-null   object \n",
            " 19  cargos_mensuales         7043 non-null   float64\n",
            " 20  cargos_totales           7032 non-null   float64\n",
            " 21  cargos_diarios           7043 non-null   float64\n",
            "dtypes: float64(3), int64(7), object(12)\n",
            "memory usage: 1.2+ MB\n"
          ]
        }
      ]
    },
    {
      "cell_type": "markdown",
      "source": [
        "# Se elimina la informacion y columnas irrelevantes"
      ],
      "metadata": {
        "id": "LWoG62p25G_a"
      }
    },
    {
      "cell_type": "code",
      "source": [
        "#Se elimina la informacion y columnas irrelevantes\n",
        "\n",
        "# Se crea una copia del dataframe original\n",
        "df_limpio = df.copy()\n",
        "\n",
        "#Se elimina id cliente ya que es irrelevante para el modelo predictivo\n",
        "df_limpio = df_limpio.drop(columns=['id_cliente'])\n",
        "\n",
        "cols_fix = [\n",
        "            'seguridad_online','copia_seguridad_online','proteccion_dispositivo',\n",
        "            'soporte_tecnico','streaming_tv','streaming_peliculas'\n",
        "]\n",
        "\n",
        "for col in cols_fix:\n",
        "  df_limpio[col] = df_limpio[col].replace('No internet service', 'No')"
      ],
      "metadata": {
        "id": "Pc_a1WtI8UAE"
      },
      "execution_count": 4,
      "outputs": []
    },
    {
      "cell_type": "code",
      "source": [
        "df_limpio.info()"
      ],
      "metadata": {
        "colab": {
          "base_uri": "https://localhost:8080/"
        },
        "id": "w4Cjq7vE-k1X",
        "outputId": "7a75b2e2-dfdc-4493-d103-b5b726f8e831"
      },
      "execution_count": 5,
      "outputs": [
        {
          "output_type": "stream",
          "name": "stdout",
          "text": [
            "<class 'pandas.core.frame.DataFrame'>\n",
            "RangeIndex: 7043 entries, 0 to 7042\n",
            "Data columns (total 21 columns):\n",
            " #   Column                   Non-Null Count  Dtype  \n",
            "---  ------                   --------------  -----  \n",
            " 0   perdida                  7043 non-null   int64  \n",
            " 1   genero                   7043 non-null   object \n",
            " 2   ciudadano_Mayor          7043 non-null   int64  \n",
            " 3   socio                    7043 non-null   int64  \n",
            " 4   dependientes             7043 non-null   int64  \n",
            " 5   antiguedad               7043 non-null   int64  \n",
            " 6   servicio_telefonico      7043 non-null   int64  \n",
            " 7   lineas_multiples         7043 non-null   object \n",
            " 8   servicio_internet        7043 non-null   object \n",
            " 9   seguridad_online         7043 non-null   object \n",
            " 10  copia_seguridad_online   7043 non-null   object \n",
            " 11  proteccion_dispositivo   7043 non-null   object \n",
            " 12  soporte_tecnico          7043 non-null   object \n",
            " 13  streaming_tv             7043 non-null   object \n",
            " 14  streaming_peliculas      7043 non-null   object \n",
            " 15  contrato                 7043 non-null   object \n",
            " 16  facturacion_electronica  7043 non-null   int64  \n",
            " 17  metodo_pago              7043 non-null   object \n",
            " 18  cargos_mensuales         7043 non-null   float64\n",
            " 19  cargos_totales           7032 non-null   float64\n",
            " 20  cargos_diarios           7043 non-null   float64\n",
            "dtypes: float64(3), int64(7), object(11)\n",
            "memory usage: 1.1+ MB\n"
          ]
        }
      ]
    },
    {
      "cell_type": "markdown",
      "source": [
        "# OneHotEncoding"
      ],
      "metadata": {
        "id": "GAHfhkNRCBtX"
      }
    },
    {
      "cell_type": "code",
      "source": [
        "categorical_cols = [\n",
        "       'perdida', 'genero', 'ciudadano_Mayor', 'socio', 'dependientes',\n",
        "       'servicio_telefonico', 'lineas_multiples', 'servicio_internet',\n",
        "       'seguridad_online', 'copia_seguridad_online',\n",
        "       'proteccion_dispositivo', 'soporte_tecnico', 'streaming_tv',\n",
        "       'streaming_peliculas', 'contrato', 'facturacion_electronica',\n",
        "       'metodo_pago'\n",
        "]\n",
        "\n",
        "# Excluir columnas numéricas que no necesitan codificación\n",
        "# 'perdida', 'ciudadano_Mayor', 'socio', 'dependientes', 'servicio_telefonico', 'facturacion_electronica'\n",
        "# Ya son numéricas binarias o representan categorías que no requieren one-hot encoding basado en el contexto.\n",
        "# 'antiguedad', 'cargos_mensuales', 'cargos_totales', 'cargos_diarios' son numéricas continuas.\n",
        "\n",
        "cols_to_encode = [col for col in categorical_cols if col in df_limpio.columns and df_limpio[col].dtype == 'object']\n",
        "\n",
        "\n",
        "df_encoded = pd.get_dummies(df_limpio, columns=cols_to_encode, drop_first=True)\n",
        "\n",
        "display(df_encoded.head())"
      ],
      "metadata": {
        "colab": {
          "base_uri": "https://localhost:8080/",
          "height": 273
        },
        "id": "quAfy0G--Anz",
        "outputId": "b32a9f81-e478-41ee-c893-11eeb0437a3a"
      },
      "execution_count": 6,
      "outputs": [
        {
          "output_type": "display_data",
          "data": {
            "text/plain": [
              "   perdida  ciudadano_Mayor  socio  dependientes  antiguedad  \\\n",
              "0        0                0      1             1           9   \n",
              "1        0                0      0             0           9   \n",
              "2        1                0      0             0           4   \n",
              "3        1                1      1             0          13   \n",
              "4        1                1      1             0           3   \n",
              "\n",
              "   servicio_telefonico  facturacion_electronica  cargos_mensuales  \\\n",
              "0                    1                        1              65.6   \n",
              "1                    1                        0              59.9   \n",
              "2                    1                        1              73.9   \n",
              "3                    1                        1              98.0   \n",
              "4                    1                        1              83.9   \n",
              "\n",
              "   cargos_totales  cargos_diarios  ...  copia_seguridad_online_Yes  \\\n",
              "0          593.30            2.19  ...                        True   \n",
              "1          542.40            2.00  ...                       False   \n",
              "2          280.85            2.46  ...                       False   \n",
              "3         1237.85            3.27  ...                        True   \n",
              "4          267.40            2.80  ...                       False   \n",
              "\n",
              "   proteccion_dispositivo_Yes  soporte_tecnico_Yes  streaming_tv_Yes  \\\n",
              "0                       False                 True              True   \n",
              "1                       False                False             False   \n",
              "2                        True                False             False   \n",
              "3                        True                False              True   \n",
              "4                       False                 True              True   \n",
              "\n",
              "   streaming_peliculas_Yes  contrato_One year  contrato_Two year  \\\n",
              "0                    False               True              False   \n",
              "1                     True              False              False   \n",
              "2                    False              False              False   \n",
              "3                     True              False              False   \n",
              "4                    False              False              False   \n",
              "\n",
              "   metodo_pago_Credit card (automatic)  metodo_pago_Electronic check  \\\n",
              "0                                False                         False   \n",
              "1                                False                         False   \n",
              "2                                False                          True   \n",
              "3                                False                          True   \n",
              "4                                False                         False   \n",
              "\n",
              "   metodo_pago_Mailed check  \n",
              "0                      True  \n",
              "1                      True  \n",
              "2                     False  \n",
              "3                     False  \n",
              "4                      True  \n",
              "\n",
              "[5 rows x 26 columns]"
            ],
            "text/html": [
              "\n",
              "  <div id=\"df-d07f6d77-a825-4ac7-9b18-9b94540d03a2\" class=\"colab-df-container\">\n",
              "    <div>\n",
              "<style scoped>\n",
              "    .dataframe tbody tr th:only-of-type {\n",
              "        vertical-align: middle;\n",
              "    }\n",
              "\n",
              "    .dataframe tbody tr th {\n",
              "        vertical-align: top;\n",
              "    }\n",
              "\n",
              "    .dataframe thead th {\n",
              "        text-align: right;\n",
              "    }\n",
              "</style>\n",
              "<table border=\"1\" class=\"dataframe\">\n",
              "  <thead>\n",
              "    <tr style=\"text-align: right;\">\n",
              "      <th></th>\n",
              "      <th>perdida</th>\n",
              "      <th>ciudadano_Mayor</th>\n",
              "      <th>socio</th>\n",
              "      <th>dependientes</th>\n",
              "      <th>antiguedad</th>\n",
              "      <th>servicio_telefonico</th>\n",
              "      <th>facturacion_electronica</th>\n",
              "      <th>cargos_mensuales</th>\n",
              "      <th>cargos_totales</th>\n",
              "      <th>cargos_diarios</th>\n",
              "      <th>...</th>\n",
              "      <th>copia_seguridad_online_Yes</th>\n",
              "      <th>proteccion_dispositivo_Yes</th>\n",
              "      <th>soporte_tecnico_Yes</th>\n",
              "      <th>streaming_tv_Yes</th>\n",
              "      <th>streaming_peliculas_Yes</th>\n",
              "      <th>contrato_One year</th>\n",
              "      <th>contrato_Two year</th>\n",
              "      <th>metodo_pago_Credit card (automatic)</th>\n",
              "      <th>metodo_pago_Electronic check</th>\n",
              "      <th>metodo_pago_Mailed check</th>\n",
              "    </tr>\n",
              "  </thead>\n",
              "  <tbody>\n",
              "    <tr>\n",
              "      <th>0</th>\n",
              "      <td>0</td>\n",
              "      <td>0</td>\n",
              "      <td>1</td>\n",
              "      <td>1</td>\n",
              "      <td>9</td>\n",
              "      <td>1</td>\n",
              "      <td>1</td>\n",
              "      <td>65.6</td>\n",
              "      <td>593.30</td>\n",
              "      <td>2.19</td>\n",
              "      <td>...</td>\n",
              "      <td>True</td>\n",
              "      <td>False</td>\n",
              "      <td>True</td>\n",
              "      <td>True</td>\n",
              "      <td>False</td>\n",
              "      <td>True</td>\n",
              "      <td>False</td>\n",
              "      <td>False</td>\n",
              "      <td>False</td>\n",
              "      <td>True</td>\n",
              "    </tr>\n",
              "    <tr>\n",
              "      <th>1</th>\n",
              "      <td>0</td>\n",
              "      <td>0</td>\n",
              "      <td>0</td>\n",
              "      <td>0</td>\n",
              "      <td>9</td>\n",
              "      <td>1</td>\n",
              "      <td>0</td>\n",
              "      <td>59.9</td>\n",
              "      <td>542.40</td>\n",
              "      <td>2.00</td>\n",
              "      <td>...</td>\n",
              "      <td>False</td>\n",
              "      <td>False</td>\n",
              "      <td>False</td>\n",
              "      <td>False</td>\n",
              "      <td>True</td>\n",
              "      <td>False</td>\n",
              "      <td>False</td>\n",
              "      <td>False</td>\n",
              "      <td>False</td>\n",
              "      <td>True</td>\n",
              "    </tr>\n",
              "    <tr>\n",
              "      <th>2</th>\n",
              "      <td>1</td>\n",
              "      <td>0</td>\n",
              "      <td>0</td>\n",
              "      <td>0</td>\n",
              "      <td>4</td>\n",
              "      <td>1</td>\n",
              "      <td>1</td>\n",
              "      <td>73.9</td>\n",
              "      <td>280.85</td>\n",
              "      <td>2.46</td>\n",
              "      <td>...</td>\n",
              "      <td>False</td>\n",
              "      <td>True</td>\n",
              "      <td>False</td>\n",
              "      <td>False</td>\n",
              "      <td>False</td>\n",
              "      <td>False</td>\n",
              "      <td>False</td>\n",
              "      <td>False</td>\n",
              "      <td>True</td>\n",
              "      <td>False</td>\n",
              "    </tr>\n",
              "    <tr>\n",
              "      <th>3</th>\n",
              "      <td>1</td>\n",
              "      <td>1</td>\n",
              "      <td>1</td>\n",
              "      <td>0</td>\n",
              "      <td>13</td>\n",
              "      <td>1</td>\n",
              "      <td>1</td>\n",
              "      <td>98.0</td>\n",
              "      <td>1237.85</td>\n",
              "      <td>3.27</td>\n",
              "      <td>...</td>\n",
              "      <td>True</td>\n",
              "      <td>True</td>\n",
              "      <td>False</td>\n",
              "      <td>True</td>\n",
              "      <td>True</td>\n",
              "      <td>False</td>\n",
              "      <td>False</td>\n",
              "      <td>False</td>\n",
              "      <td>True</td>\n",
              "      <td>False</td>\n",
              "    </tr>\n",
              "    <tr>\n",
              "      <th>4</th>\n",
              "      <td>1</td>\n",
              "      <td>1</td>\n",
              "      <td>1</td>\n",
              "      <td>0</td>\n",
              "      <td>3</td>\n",
              "      <td>1</td>\n",
              "      <td>1</td>\n",
              "      <td>83.9</td>\n",
              "      <td>267.40</td>\n",
              "      <td>2.80</td>\n",
              "      <td>...</td>\n",
              "      <td>False</td>\n",
              "      <td>False</td>\n",
              "      <td>True</td>\n",
              "      <td>True</td>\n",
              "      <td>False</td>\n",
              "      <td>False</td>\n",
              "      <td>False</td>\n",
              "      <td>False</td>\n",
              "      <td>False</td>\n",
              "      <td>True</td>\n",
              "    </tr>\n",
              "  </tbody>\n",
              "</table>\n",
              "<p>5 rows × 26 columns</p>\n",
              "</div>\n",
              "    <div class=\"colab-df-buttons\">\n",
              "\n",
              "  <div class=\"colab-df-container\">\n",
              "    <button class=\"colab-df-convert\" onclick=\"convertToInteractive('df-d07f6d77-a825-4ac7-9b18-9b94540d03a2')\"\n",
              "            title=\"Convert this dataframe to an interactive table.\"\n",
              "            style=\"display:none;\">\n",
              "\n",
              "  <svg xmlns=\"http://www.w3.org/2000/svg\" height=\"24px\" viewBox=\"0 -960 960 960\">\n",
              "    <path d=\"M120-120v-720h720v720H120Zm60-500h600v-160H180v160Zm220 220h160v-160H400v160Zm0 220h160v-160H400v160ZM180-400h160v-160H180v160Zm440 0h160v-160H620v160ZM180-180h160v-160H180v160Zm440 0h160v-160H620v160Z\"/>\n",
              "  </svg>\n",
              "    </button>\n",
              "\n",
              "  <style>\n",
              "    .colab-df-container {\n",
              "      display:flex;\n",
              "      gap: 12px;\n",
              "    }\n",
              "\n",
              "    .colab-df-convert {\n",
              "      background-color: #E8F0FE;\n",
              "      border: none;\n",
              "      border-radius: 50%;\n",
              "      cursor: pointer;\n",
              "      display: none;\n",
              "      fill: #1967D2;\n",
              "      height: 32px;\n",
              "      padding: 0 0 0 0;\n",
              "      width: 32px;\n",
              "    }\n",
              "\n",
              "    .colab-df-convert:hover {\n",
              "      background-color: #E2EBFA;\n",
              "      box-shadow: 0px 1px 2px rgba(60, 64, 67, 0.3), 0px 1px 3px 1px rgba(60, 64, 67, 0.15);\n",
              "      fill: #174EA6;\n",
              "    }\n",
              "\n",
              "    .colab-df-buttons div {\n",
              "      margin-bottom: 4px;\n",
              "    }\n",
              "\n",
              "    [theme=dark] .colab-df-convert {\n",
              "      background-color: #3B4455;\n",
              "      fill: #D2E3FC;\n",
              "    }\n",
              "\n",
              "    [theme=dark] .colab-df-convert:hover {\n",
              "      background-color: #434B5C;\n",
              "      box-shadow: 0px 1px 3px 1px rgba(0, 0, 0, 0.15);\n",
              "      filter: drop-shadow(0px 1px 2px rgba(0, 0, 0, 0.3));\n",
              "      fill: #FFFFFF;\n",
              "    }\n",
              "  </style>\n",
              "\n",
              "    <script>\n",
              "      const buttonEl =\n",
              "        document.querySelector('#df-d07f6d77-a825-4ac7-9b18-9b94540d03a2 button.colab-df-convert');\n",
              "      buttonEl.style.display =\n",
              "        google.colab.kernel.accessAllowed ? 'block' : 'none';\n",
              "\n",
              "      async function convertToInteractive(key) {\n",
              "        const element = document.querySelector('#df-d07f6d77-a825-4ac7-9b18-9b94540d03a2');\n",
              "        const dataTable =\n",
              "          await google.colab.kernel.invokeFunction('convertToInteractive',\n",
              "                                                    [key], {});\n",
              "        if (!dataTable) return;\n",
              "\n",
              "        const docLinkHtml = 'Like what you see? Visit the ' +\n",
              "          '<a target=\"_blank\" href=https://colab.research.google.com/notebooks/data_table.ipynb>data table notebook</a>'\n",
              "          + ' to learn more about interactive tables.';\n",
              "        element.innerHTML = '';\n",
              "        dataTable['output_type'] = 'display_data';\n",
              "        await google.colab.output.renderOutput(dataTable, element);\n",
              "        const docLink = document.createElement('div');\n",
              "        docLink.innerHTML = docLinkHtml;\n",
              "        element.appendChild(docLink);\n",
              "      }\n",
              "    </script>\n",
              "  </div>\n",
              "\n",
              "\n",
              "    <div id=\"df-c31418bc-a075-4a98-8d5a-742dc7b8983f\">\n",
              "      <button class=\"colab-df-quickchart\" onclick=\"quickchart('df-c31418bc-a075-4a98-8d5a-742dc7b8983f')\"\n",
              "                title=\"Suggest charts\"\n",
              "                style=\"display:none;\">\n",
              "\n",
              "<svg xmlns=\"http://www.w3.org/2000/svg\" height=\"24px\"viewBox=\"0 0 24 24\"\n",
              "     width=\"24px\">\n",
              "    <g>\n",
              "        <path d=\"M19 3H5c-1.1 0-2 .9-2 2v14c0 1.1.9 2 2 2h14c1.1 0 2-.9 2-2V5c0-1.1-.9-2-2-2zM9 17H7v-7h2v7zm4 0h-2V7h2v10zm4 0h-2v-4h2v4z\"/>\n",
              "    </g>\n",
              "</svg>\n",
              "      </button>\n",
              "\n",
              "<style>\n",
              "  .colab-df-quickchart {\n",
              "      --bg-color: #E8F0FE;\n",
              "      --fill-color: #1967D2;\n",
              "      --hover-bg-color: #E2EBFA;\n",
              "      --hover-fill-color: #174EA6;\n",
              "      --disabled-fill-color: #AAA;\n",
              "      --disabled-bg-color: #DDD;\n",
              "  }\n",
              "\n",
              "  [theme=dark] .colab-df-quickchart {\n",
              "      --bg-color: #3B4455;\n",
              "      --fill-color: #D2E3FC;\n",
              "      --hover-bg-color: #434B5C;\n",
              "      --hover-fill-color: #FFFFFF;\n",
              "      --disabled-bg-color: #3B4455;\n",
              "      --disabled-fill-color: #666;\n",
              "  }\n",
              "\n",
              "  .colab-df-quickchart {\n",
              "    background-color: var(--bg-color);\n",
              "    border: none;\n",
              "    border-radius: 50%;\n",
              "    cursor: pointer;\n",
              "    display: none;\n",
              "    fill: var(--fill-color);\n",
              "    height: 32px;\n",
              "    padding: 0;\n",
              "    width: 32px;\n",
              "  }\n",
              "\n",
              "  .colab-df-quickchart:hover {\n",
              "    background-color: var(--hover-bg-color);\n",
              "    box-shadow: 0 1px 2px rgba(60, 64, 67, 0.3), 0 1px 3px 1px rgba(60, 64, 67, 0.15);\n",
              "    fill: var(--button-hover-fill-color);\n",
              "  }\n",
              "\n",
              "  .colab-df-quickchart-complete:disabled,\n",
              "  .colab-df-quickchart-complete:disabled:hover {\n",
              "    background-color: var(--disabled-bg-color);\n",
              "    fill: var(--disabled-fill-color);\n",
              "    box-shadow: none;\n",
              "  }\n",
              "\n",
              "  .colab-df-spinner {\n",
              "    border: 2px solid var(--fill-color);\n",
              "    border-color: transparent;\n",
              "    border-bottom-color: var(--fill-color);\n",
              "    animation:\n",
              "      spin 1s steps(1) infinite;\n",
              "  }\n",
              "\n",
              "  @keyframes spin {\n",
              "    0% {\n",
              "      border-color: transparent;\n",
              "      border-bottom-color: var(--fill-color);\n",
              "      border-left-color: var(--fill-color);\n",
              "    }\n",
              "    20% {\n",
              "      border-color: transparent;\n",
              "      border-left-color: var(--fill-color);\n",
              "      border-top-color: var(--fill-color);\n",
              "    }\n",
              "    30% {\n",
              "      border-color: transparent;\n",
              "      border-left-color: var(--fill-color);\n",
              "      border-top-color: var(--fill-color);\n",
              "      border-right-color: var(--fill-color);\n",
              "    }\n",
              "    40% {\n",
              "      border-color: transparent;\n",
              "      border-right-color: var(--fill-color);\n",
              "      border-top-color: var(--fill-color);\n",
              "    }\n",
              "    60% {\n",
              "      border-color: transparent;\n",
              "      border-right-color: var(--fill-color);\n",
              "    }\n",
              "    80% {\n",
              "      border-color: transparent;\n",
              "      border-right-color: var(--fill-color);\n",
              "      border-bottom-color: var(--fill-color);\n",
              "    }\n",
              "    90% {\n",
              "      border-color: transparent;\n",
              "      border-bottom-color: var(--fill-color);\n",
              "    }\n",
              "  }\n",
              "</style>\n",
              "\n",
              "      <script>\n",
              "        async function quickchart(key) {\n",
              "          const quickchartButtonEl =\n",
              "            document.querySelector('#' + key + ' button');\n",
              "          quickchartButtonEl.disabled = true;  // To prevent multiple clicks.\n",
              "          quickchartButtonEl.classList.add('colab-df-spinner');\n",
              "          try {\n",
              "            const charts = await google.colab.kernel.invokeFunction(\n",
              "                'suggestCharts', [key], {});\n",
              "          } catch (error) {\n",
              "            console.error('Error during call to suggestCharts:', error);\n",
              "          }\n",
              "          quickchartButtonEl.classList.remove('colab-df-spinner');\n",
              "          quickchartButtonEl.classList.add('colab-df-quickchart-complete');\n",
              "        }\n",
              "        (() => {\n",
              "          let quickchartButtonEl =\n",
              "            document.querySelector('#df-c31418bc-a075-4a98-8d5a-742dc7b8983f button');\n",
              "          quickchartButtonEl.style.display =\n",
              "            google.colab.kernel.accessAllowed ? 'block' : 'none';\n",
              "        })();\n",
              "      </script>\n",
              "    </div>\n",
              "\n",
              "    </div>\n",
              "  </div>\n"
            ],
            "application/vnd.google.colaboratory.intrinsic+json": {
              "type": "dataframe"
            }
          },
          "metadata": {}
        }
      ]
    },
    {
      "cell_type": "code",
      "source": [
        "df_encoded.info()"
      ],
      "metadata": {
        "colab": {
          "base_uri": "https://localhost:8080/"
        },
        "id": "7dn5tapWCsZj",
        "outputId": "8f8e9b10-f6af-4708-b73f-acdfc4d60b02"
      },
      "execution_count": 7,
      "outputs": [
        {
          "output_type": "stream",
          "name": "stdout",
          "text": [
            "<class 'pandas.core.frame.DataFrame'>\n",
            "RangeIndex: 7043 entries, 0 to 7042\n",
            "Data columns (total 26 columns):\n",
            " #   Column                               Non-Null Count  Dtype  \n",
            "---  ------                               --------------  -----  \n",
            " 0   perdida                              7043 non-null   int64  \n",
            " 1   ciudadano_Mayor                      7043 non-null   int64  \n",
            " 2   socio                                7043 non-null   int64  \n",
            " 3   dependientes                         7043 non-null   int64  \n",
            " 4   antiguedad                           7043 non-null   int64  \n",
            " 5   servicio_telefonico                  7043 non-null   int64  \n",
            " 6   facturacion_electronica              7043 non-null   int64  \n",
            " 7   cargos_mensuales                     7043 non-null   float64\n",
            " 8   cargos_totales                       7032 non-null   float64\n",
            " 9   cargos_diarios                       7043 non-null   float64\n",
            " 10  genero_Male                          7043 non-null   bool   \n",
            " 11  lineas_multiples_No phone service    7043 non-null   bool   \n",
            " 12  lineas_multiples_Yes                 7043 non-null   bool   \n",
            " 13  servicio_internet_Fiber optic        7043 non-null   bool   \n",
            " 14  servicio_internet_No                 7043 non-null   bool   \n",
            " 15  seguridad_online_Yes                 7043 non-null   bool   \n",
            " 16  copia_seguridad_online_Yes           7043 non-null   bool   \n",
            " 17  proteccion_dispositivo_Yes           7043 non-null   bool   \n",
            " 18  soporte_tecnico_Yes                  7043 non-null   bool   \n",
            " 19  streaming_tv_Yes                     7043 non-null   bool   \n",
            " 20  streaming_peliculas_Yes              7043 non-null   bool   \n",
            " 21  contrato_One year                    7043 non-null   bool   \n",
            " 22  contrato_Two year                    7043 non-null   bool   \n",
            " 23  metodo_pago_Credit card (automatic)  7043 non-null   bool   \n",
            " 24  metodo_pago_Electronic check         7043 non-null   bool   \n",
            " 25  metodo_pago_Mailed check             7043 non-null   bool   \n",
            "dtypes: bool(16), float64(3), int64(7)\n",
            "memory usage: 660.4 KB\n"
          ]
        }
      ]
    },
    {
      "cell_type": "code",
      "source": [
        "#Verificaremos los valores nulos\n",
        "nulos_por_columna = df_encoded.isnull().sum()\n",
        "\n",
        "# Filtrar para mostrar solo columnas con valores nulos\n",
        "columnas_con_nulos = nulos_por_columna[nulos_por_columna > 0]\n",
        "\n",
        "# Mostrar las columnas con nulos\n",
        "if not columnas_con_nulos.empty:\n",
        "  print(\"Columnas con valores nulos:\")\n",
        "  display(columnas_con_nulos)\n",
        "else:\n",
        "  print(\"No hay columnas con valores nulos en el DataFrame.\")"
      ],
      "metadata": {
        "colab": {
          "base_uri": "https://localhost:8080/",
          "height": 132
        },
        "id": "j_1yFw7nC9Zm",
        "outputId": "40580fd5-8b50-4e0d-fe5f-64a16b5223be"
      },
      "execution_count": 8,
      "outputs": [
        {
          "output_type": "stream",
          "name": "stdout",
          "text": [
            "Columnas con valores nulos:\n"
          ]
        },
        {
          "output_type": "display_data",
          "data": {
            "text/plain": [
              "cargos_totales    11\n",
              "dtype: int64"
            ],
            "text/html": [
              "<div>\n",
              "<style scoped>\n",
              "    .dataframe tbody tr th:only-of-type {\n",
              "        vertical-align: middle;\n",
              "    }\n",
              "\n",
              "    .dataframe tbody tr th {\n",
              "        vertical-align: top;\n",
              "    }\n",
              "\n",
              "    .dataframe thead th {\n",
              "        text-align: right;\n",
              "    }\n",
              "</style>\n",
              "<table border=\"1\" class=\"dataframe\">\n",
              "  <thead>\n",
              "    <tr style=\"text-align: right;\">\n",
              "      <th></th>\n",
              "      <th>0</th>\n",
              "    </tr>\n",
              "  </thead>\n",
              "  <tbody>\n",
              "    <tr>\n",
              "      <th>cargos_totales</th>\n",
              "      <td>11</td>\n",
              "    </tr>\n",
              "  </tbody>\n",
              "</table>\n",
              "</div><br><label><b>dtype:</b> int64</label>"
            ]
          },
          "metadata": {}
        }
      ]
    },
    {
      "cell_type": "code",
      "source": [
        "df_encoded = df_encoded.dropna(subset=['cargos_totales'])"
      ],
      "metadata": {
        "id": "SQME-5bODHqe"
      },
      "execution_count": 9,
      "outputs": []
    },
    {
      "cell_type": "markdown",
      "source": [
        "# Verificacion de proporcion de evasion"
      ],
      "metadata": {
        "id": "CvJgIRoXEorm"
      }
    },
    {
      "cell_type": "code",
      "source": [
        "df_encoded['perdida'].value_counts()"
      ],
      "metadata": {
        "colab": {
          "base_uri": "https://localhost:8080/",
          "height": 178
        },
        "id": "BfE4FYlKE5je",
        "outputId": "d15e57cf-f3f8-4d58-a3de-0be3a68d8748"
      },
      "execution_count": 10,
      "outputs": [
        {
          "output_type": "execute_result",
          "data": {
            "text/plain": [
              "perdida\n",
              "0    5163\n",
              "1    1869\n",
              "Name: count, dtype: int64"
            ],
            "text/html": [
              "<div>\n",
              "<style scoped>\n",
              "    .dataframe tbody tr th:only-of-type {\n",
              "        vertical-align: middle;\n",
              "    }\n",
              "\n",
              "    .dataframe tbody tr th {\n",
              "        vertical-align: top;\n",
              "    }\n",
              "\n",
              "    .dataframe thead th {\n",
              "        text-align: right;\n",
              "    }\n",
              "</style>\n",
              "<table border=\"1\" class=\"dataframe\">\n",
              "  <thead>\n",
              "    <tr style=\"text-align: right;\">\n",
              "      <th></th>\n",
              "      <th>count</th>\n",
              "    </tr>\n",
              "    <tr>\n",
              "      <th>perdida</th>\n",
              "      <th></th>\n",
              "    </tr>\n",
              "  </thead>\n",
              "  <tbody>\n",
              "    <tr>\n",
              "      <th>0</th>\n",
              "      <td>5163</td>\n",
              "    </tr>\n",
              "    <tr>\n",
              "      <th>1</th>\n",
              "      <td>1869</td>\n",
              "    </tr>\n",
              "  </tbody>\n",
              "</table>\n",
              "</div><br><label><b>dtype:</b> int64</label>"
            ]
          },
          "metadata": {},
          "execution_count": 10
        }
      ]
    },
    {
      "cell_type": "code",
      "source": [
        "print(f'El porcentaje de NO evasores es de: {df_encoded[\"perdida\"].value_counts(normalize=True)[0]*100:.3f}%')\n",
        "print(f'El porcentaje de evasores es de: {df_encoded[\"perdida\"].value_counts(normalize=True)[1]*100:.3f}%')"
      ],
      "metadata": {
        "colab": {
          "base_uri": "https://localhost:8080/"
        },
        "id": "g6-GEg7BFoR1",
        "outputId": "58925627-d074-45a9-dc9d-56b9ef4107a9"
      },
      "execution_count": 11,
      "outputs": [
        {
          "output_type": "stream",
          "name": "stdout",
          "text": [
            "El porcentaje de NO evasores es de: 73.422%\n",
            "El porcentaje de evasores es de: 26.578%\n"
          ]
        }
      ]
    },
    {
      "cell_type": "code",
      "metadata": {
        "colab": {
          "base_uri": "https://localhost:8080/",
          "height": 417
        },
        "id": "6776b15c",
        "outputId": "03ff708a-2cb4-43b2-d1e3-b8e3931901d9"
      },
      "source": [
        "import plotly.graph_objects as go\n",
        "\n",
        "# Obtener los conteos de cada clase\n",
        "counts = df_encoded['perdida'].value_counts()\n",
        "\n",
        "# Crear el histograma usando graph_objects\n",
        "fig = go.Figure(data=[\n",
        "    go.Bar(name='No pérdida', x=[0], y=[counts.get(0, 0)], marker_color='#636EFA', width=0.3), # Ajustar ancho de barra\n",
        "    go.Bar(name='Pérdida', x=[1], y=[counts.get(1, 0)], marker_color='#EF553B', width=0.3) # Ajustar ancho de barra\n",
        "])\n",
        "\n",
        "# Ajustar el layout para que las barras estén más juntas y con ticks en 0 y 1\n",
        "fig.update_layout(\n",
        "    xaxis = dict(\n",
        "        tickvals=[0, 1],\n",
        "        ticktext=['Clientes', 'Evasores']\n",
        "    ),\n",
        "    bargap=0.1, # Ajustar el espacio entre grupos de barras\n",
        "    title='Distribución de la columna \"perdida\"',\n",
        "    xaxis_title='Diferencia entre clientes que pagan y evasores',\n",
        "    yaxis_title='Frecuencia',\n",
        "    width=600, # Ajustar el ancho de la ventana del gráfico\n",
        "    height=400, # Ajustar la altura de la ventana del gráfico\n",
        "    showlegend=False # Ocultar la leyenda\n",
        ")\n",
        "\n",
        "fig.show()"
      ],
      "execution_count": 19,
      "outputs": [
        {
          "output_type": "display_data",
          "data": {
            "text/html": [
              "<html>\n",
              "<head><meta charset=\"utf-8\" /></head>\n",
              "<body>\n",
              "    <div>            <script src=\"https://cdnjs.cloudflare.com/ajax/libs/mathjax/2.7.5/MathJax.js?config=TeX-AMS-MML_SVG\"></script><script type=\"text/javascript\">if (window.MathJax && window.MathJax.Hub && window.MathJax.Hub.Config) {window.MathJax.Hub.Config({SVG: {font: \"STIX-Web\"}});}</script>                <script type=\"text/javascript\">window.PlotlyConfig = {MathJaxConfig: 'local'};</script>\n",
              "        <script charset=\"utf-8\" src=\"https://cdn.plot.ly/plotly-2.35.2.min.js\"></script>                <div id=\"de434ca8-839a-4321-a65a-173ce186f76e\" class=\"plotly-graph-div\" style=\"height:400px; width:600px;\"></div>            <script type=\"text/javascript\">                                    window.PLOTLYENV=window.PLOTLYENV || {};                                    if (document.getElementById(\"de434ca8-839a-4321-a65a-173ce186f76e\")) {                    Plotly.newPlot(                        \"de434ca8-839a-4321-a65a-173ce186f76e\",                        [{\"marker\":{\"color\":\"#636EFA\"},\"name\":\"No pérdida\",\"width\":0.3,\"x\":[0],\"y\":[5163],\"type\":\"bar\"},{\"marker\":{\"color\":\"#EF553B\"},\"name\":\"Pérdida\",\"width\":0.3,\"x\":[1],\"y\":[1869],\"type\":\"bar\"}],                        {\"template\":{\"data\":{\"histogram2dcontour\":[{\"type\":\"histogram2dcontour\",\"colorbar\":{\"outlinewidth\":0,\"ticks\":\"\"},\"colorscale\":[[0.0,\"#0d0887\"],[0.1111111111111111,\"#46039f\"],[0.2222222222222222,\"#7201a8\"],[0.3333333333333333,\"#9c179e\"],[0.4444444444444444,\"#bd3786\"],[0.5555555555555556,\"#d8576b\"],[0.6666666666666666,\"#ed7953\"],[0.7777777777777778,\"#fb9f3a\"],[0.8888888888888888,\"#fdca26\"],[1.0,\"#f0f921\"]]}],\"choropleth\":[{\"type\":\"choropleth\",\"colorbar\":{\"outlinewidth\":0,\"ticks\":\"\"}}],\"histogram2d\":[{\"type\":\"histogram2d\",\"colorbar\":{\"outlinewidth\":0,\"ticks\":\"\"},\"colorscale\":[[0.0,\"#0d0887\"],[0.1111111111111111,\"#46039f\"],[0.2222222222222222,\"#7201a8\"],[0.3333333333333333,\"#9c179e\"],[0.4444444444444444,\"#bd3786\"],[0.5555555555555556,\"#d8576b\"],[0.6666666666666666,\"#ed7953\"],[0.7777777777777778,\"#fb9f3a\"],[0.8888888888888888,\"#fdca26\"],[1.0,\"#f0f921\"]]}],\"heatmap\":[{\"type\":\"heatmap\",\"colorbar\":{\"outlinewidth\":0,\"ticks\":\"\"},\"colorscale\":[[0.0,\"#0d0887\"],[0.1111111111111111,\"#46039f\"],[0.2222222222222222,\"#7201a8\"],[0.3333333333333333,\"#9c179e\"],[0.4444444444444444,\"#bd3786\"],[0.5555555555555556,\"#d8576b\"],[0.6666666666666666,\"#ed7953\"],[0.7777777777777778,\"#fb9f3a\"],[0.8888888888888888,\"#fdca26\"],[1.0,\"#f0f921\"]]}],\"heatmapgl\":[{\"type\":\"heatmapgl\",\"colorbar\":{\"outlinewidth\":0,\"ticks\":\"\"},\"colorscale\":[[0.0,\"#0d0887\"],[0.1111111111111111,\"#46039f\"],[0.2222222222222222,\"#7201a8\"],[0.3333333333333333,\"#9c179e\"],[0.4444444444444444,\"#bd3786\"],[0.5555555555555556,\"#d8576b\"],[0.6666666666666666,\"#ed7953\"],[0.7777777777777778,\"#fb9f3a\"],[0.8888888888888888,\"#fdca26\"],[1.0,\"#f0f921\"]]}],\"contourcarpet\":[{\"type\":\"contourcarpet\",\"colorbar\":{\"outlinewidth\":0,\"ticks\":\"\"}}],\"contour\":[{\"type\":\"contour\",\"colorbar\":{\"outlinewidth\":0,\"ticks\":\"\"},\"colorscale\":[[0.0,\"#0d0887\"],[0.1111111111111111,\"#46039f\"],[0.2222222222222222,\"#7201a8\"],[0.3333333333333333,\"#9c179e\"],[0.4444444444444444,\"#bd3786\"],[0.5555555555555556,\"#d8576b\"],[0.6666666666666666,\"#ed7953\"],[0.7777777777777778,\"#fb9f3a\"],[0.8888888888888888,\"#fdca26\"],[1.0,\"#f0f921\"]]}],\"surface\":[{\"type\":\"surface\",\"colorbar\":{\"outlinewidth\":0,\"ticks\":\"\"},\"colorscale\":[[0.0,\"#0d0887\"],[0.1111111111111111,\"#46039f\"],[0.2222222222222222,\"#7201a8\"],[0.3333333333333333,\"#9c179e\"],[0.4444444444444444,\"#bd3786\"],[0.5555555555555556,\"#d8576b\"],[0.6666666666666666,\"#ed7953\"],[0.7777777777777778,\"#fb9f3a\"],[0.8888888888888888,\"#fdca26\"],[1.0,\"#f0f921\"]]}],\"mesh3d\":[{\"type\":\"mesh3d\",\"colorbar\":{\"outlinewidth\":0,\"ticks\":\"\"}}],\"scatter\":[{\"fillpattern\":{\"fillmode\":\"overlay\",\"size\":10,\"solidity\":0.2},\"type\":\"scatter\"}],\"parcoords\":[{\"type\":\"parcoords\",\"line\":{\"colorbar\":{\"outlinewidth\":0,\"ticks\":\"\"}}}],\"scatterpolargl\":[{\"type\":\"scatterpolargl\",\"marker\":{\"colorbar\":{\"outlinewidth\":0,\"ticks\":\"\"}}}],\"bar\":[{\"error_x\":{\"color\":\"#2a3f5f\"},\"error_y\":{\"color\":\"#2a3f5f\"},\"marker\":{\"line\":{\"color\":\"#E5ECF6\",\"width\":0.5},\"pattern\":{\"fillmode\":\"overlay\",\"size\":10,\"solidity\":0.2}},\"type\":\"bar\"}],\"scattergeo\":[{\"type\":\"scattergeo\",\"marker\":{\"colorbar\":{\"outlinewidth\":0,\"ticks\":\"\"}}}],\"scatterpolar\":[{\"type\":\"scatterpolar\",\"marker\":{\"colorbar\":{\"outlinewidth\":0,\"ticks\":\"\"}}}],\"histogram\":[{\"marker\":{\"pattern\":{\"fillmode\":\"overlay\",\"size\":10,\"solidity\":0.2}},\"type\":\"histogram\"}],\"scattergl\":[{\"type\":\"scattergl\",\"marker\":{\"colorbar\":{\"outlinewidth\":0,\"ticks\":\"\"}}}],\"scatter3d\":[{\"type\":\"scatter3d\",\"line\":{\"colorbar\":{\"outlinewidth\":0,\"ticks\":\"\"}},\"marker\":{\"colorbar\":{\"outlinewidth\":0,\"ticks\":\"\"}}}],\"scattermapbox\":[{\"type\":\"scattermapbox\",\"marker\":{\"colorbar\":{\"outlinewidth\":0,\"ticks\":\"\"}}}],\"scatterternary\":[{\"type\":\"scatterternary\",\"marker\":{\"colorbar\":{\"outlinewidth\":0,\"ticks\":\"\"}}}],\"scattercarpet\":[{\"type\":\"scattercarpet\",\"marker\":{\"colorbar\":{\"outlinewidth\":0,\"ticks\":\"\"}}}],\"carpet\":[{\"aaxis\":{\"endlinecolor\":\"#2a3f5f\",\"gridcolor\":\"white\",\"linecolor\":\"white\",\"minorgridcolor\":\"white\",\"startlinecolor\":\"#2a3f5f\"},\"baxis\":{\"endlinecolor\":\"#2a3f5f\",\"gridcolor\":\"white\",\"linecolor\":\"white\",\"minorgridcolor\":\"white\",\"startlinecolor\":\"#2a3f5f\"},\"type\":\"carpet\"}],\"table\":[{\"cells\":{\"fill\":{\"color\":\"#EBF0F8\"},\"line\":{\"color\":\"white\"}},\"header\":{\"fill\":{\"color\":\"#C8D4E3\"},\"line\":{\"color\":\"white\"}},\"type\":\"table\"}],\"barpolar\":[{\"marker\":{\"line\":{\"color\":\"#E5ECF6\",\"width\":0.5},\"pattern\":{\"fillmode\":\"overlay\",\"size\":10,\"solidity\":0.2}},\"type\":\"barpolar\"}],\"pie\":[{\"automargin\":true,\"type\":\"pie\"}]},\"layout\":{\"autotypenumbers\":\"strict\",\"colorway\":[\"#636efa\",\"#EF553B\",\"#00cc96\",\"#ab63fa\",\"#FFA15A\",\"#19d3f3\",\"#FF6692\",\"#B6E880\",\"#FF97FF\",\"#FECB52\"],\"font\":{\"color\":\"#2a3f5f\"},\"hovermode\":\"closest\",\"hoverlabel\":{\"align\":\"left\"},\"paper_bgcolor\":\"white\",\"plot_bgcolor\":\"#E5ECF6\",\"polar\":{\"bgcolor\":\"#E5ECF6\",\"angularaxis\":{\"gridcolor\":\"white\",\"linecolor\":\"white\",\"ticks\":\"\"},\"radialaxis\":{\"gridcolor\":\"white\",\"linecolor\":\"white\",\"ticks\":\"\"}},\"ternary\":{\"bgcolor\":\"#E5ECF6\",\"aaxis\":{\"gridcolor\":\"white\",\"linecolor\":\"white\",\"ticks\":\"\"},\"baxis\":{\"gridcolor\":\"white\",\"linecolor\":\"white\",\"ticks\":\"\"},\"caxis\":{\"gridcolor\":\"white\",\"linecolor\":\"white\",\"ticks\":\"\"}},\"coloraxis\":{\"colorbar\":{\"outlinewidth\":0,\"ticks\":\"\"}},\"colorscale\":{\"sequential\":[[0.0,\"#0d0887\"],[0.1111111111111111,\"#46039f\"],[0.2222222222222222,\"#7201a8\"],[0.3333333333333333,\"#9c179e\"],[0.4444444444444444,\"#bd3786\"],[0.5555555555555556,\"#d8576b\"],[0.6666666666666666,\"#ed7953\"],[0.7777777777777778,\"#fb9f3a\"],[0.8888888888888888,\"#fdca26\"],[1.0,\"#f0f921\"]],\"sequentialminus\":[[0.0,\"#0d0887\"],[0.1111111111111111,\"#46039f\"],[0.2222222222222222,\"#7201a8\"],[0.3333333333333333,\"#9c179e\"],[0.4444444444444444,\"#bd3786\"],[0.5555555555555556,\"#d8576b\"],[0.6666666666666666,\"#ed7953\"],[0.7777777777777778,\"#fb9f3a\"],[0.8888888888888888,\"#fdca26\"],[1.0,\"#f0f921\"]],\"diverging\":[[0,\"#8e0152\"],[0.1,\"#c51b7d\"],[0.2,\"#de77ae\"],[0.3,\"#f1b6da\"],[0.4,\"#fde0ef\"],[0.5,\"#f7f7f7\"],[0.6,\"#e6f5d0\"],[0.7,\"#b8e186\"],[0.8,\"#7fbc41\"],[0.9,\"#4d9221\"],[1,\"#276419\"]]},\"xaxis\":{\"gridcolor\":\"white\",\"linecolor\":\"white\",\"ticks\":\"\",\"title\":{\"standoff\":15},\"zerolinecolor\":\"white\",\"automargin\":true,\"zerolinewidth\":2},\"yaxis\":{\"gridcolor\":\"white\",\"linecolor\":\"white\",\"ticks\":\"\",\"title\":{\"standoff\":15},\"zerolinecolor\":\"white\",\"automargin\":true,\"zerolinewidth\":2},\"scene\":{\"xaxis\":{\"backgroundcolor\":\"#E5ECF6\",\"gridcolor\":\"white\",\"linecolor\":\"white\",\"showbackground\":true,\"ticks\":\"\",\"zerolinecolor\":\"white\",\"gridwidth\":2},\"yaxis\":{\"backgroundcolor\":\"#E5ECF6\",\"gridcolor\":\"white\",\"linecolor\":\"white\",\"showbackground\":true,\"ticks\":\"\",\"zerolinecolor\":\"white\",\"gridwidth\":2},\"zaxis\":{\"backgroundcolor\":\"#E5ECF6\",\"gridcolor\":\"white\",\"linecolor\":\"white\",\"showbackground\":true,\"ticks\":\"\",\"zerolinecolor\":\"white\",\"gridwidth\":2}},\"shapedefaults\":{\"line\":{\"color\":\"#2a3f5f\"}},\"annotationdefaults\":{\"arrowcolor\":\"#2a3f5f\",\"arrowhead\":0,\"arrowwidth\":1},\"geo\":{\"bgcolor\":\"white\",\"landcolor\":\"#E5ECF6\",\"subunitcolor\":\"white\",\"showland\":true,\"showlakes\":true,\"lakecolor\":\"white\"},\"title\":{\"x\":0.05},\"mapbox\":{\"style\":\"light\"}}},\"xaxis\":{\"tickvals\":[0,1],\"ticktext\":[\"Clientes\",\"Evasores\"],\"title\":{\"text\":\"Diferencia entre clientes que pagan y evasores\"}},\"bargap\":0.1,\"title\":{\"text\":\"Distribución de la columna \\\"perdida\\\"\"},\"yaxis\":{\"title\":{\"text\":\"Frecuencia\"}},\"width\":600,\"height\":400,\"showlegend\":false},                        {\"responsive\": true}                    ).then(function(){\n",
              "                            \n",
              "var gd = document.getElementById('de434ca8-839a-4321-a65a-173ce186f76e');\n",
              "var x = new MutationObserver(function (mutations, observer) {{\n",
              "        var display = window.getComputedStyle(gd).display;\n",
              "        if (!display || display === 'none') {{\n",
              "            console.log([gd, 'removed!']);\n",
              "            Plotly.purge(gd);\n",
              "            observer.disconnect();\n",
              "        }}\n",
              "}});\n",
              "\n",
              "// Listen for the removal of the full notebook cells\n",
              "var notebookContainer = gd.closest('#notebook-container');\n",
              "if (notebookContainer) {{\n",
              "    x.observe(notebookContainer, {childList: true});\n",
              "}}\n",
              "\n",
              "// Listen for the clearing of the current output cell\n",
              "var outputEl = gd.closest('.output');\n",
              "if (outputEl) {{\n",
              "    x.observe(outputEl, {childList: true});\n",
              "}}\n",
              "\n",
              "                        })                };                            </script>        </div>\n",
              "</body>\n",
              "</html>"
            ]
          },
          "metadata": {}
        }
      ]
    },
    {
      "cell_type": "markdown",
      "source": [
        "# Oversampling y undersampling"
      ],
      "metadata": {
        "id": "DKsjWnh4JF9i"
      }
    },
    {
      "cell_type": "code",
      "source": [
        "from imblearn.over_sampling import SMOTE\n",
        "from imblearn.under_sampling import NearMiss\n",
        "\n",
        "X = df_encoded.drop('perdida', axis=1)\n",
        "y = df_encoded['perdida']\n",
        "\n",
        "oversample=SMOTE(random_state=5)\n",
        "X_bal_over,y_bal_over=oversample.fit_resample(X,y)\n",
        "\n",
        "y_bal_over.value_counts()"
      ],
      "metadata": {
        "colab": {
          "base_uri": "https://localhost:8080/",
          "height": 178
        },
        "id": "VrpmoeoMJKH-",
        "outputId": "535ab817-eca6-4412-e5c5-1a58b2db2c95"
      },
      "execution_count": 25,
      "outputs": [
        {
          "output_type": "execute_result",
          "data": {
            "text/plain": [
              "perdida\n",
              "0    5163\n",
              "1    5163\n",
              "Name: count, dtype: int64"
            ],
            "text/html": [
              "<div>\n",
              "<style scoped>\n",
              "    .dataframe tbody tr th:only-of-type {\n",
              "        vertical-align: middle;\n",
              "    }\n",
              "\n",
              "    .dataframe tbody tr th {\n",
              "        vertical-align: top;\n",
              "    }\n",
              "\n",
              "    .dataframe thead th {\n",
              "        text-align: right;\n",
              "    }\n",
              "</style>\n",
              "<table border=\"1\" class=\"dataframe\">\n",
              "  <thead>\n",
              "    <tr style=\"text-align: right;\">\n",
              "      <th></th>\n",
              "      <th>count</th>\n",
              "    </tr>\n",
              "    <tr>\n",
              "      <th>perdida</th>\n",
              "      <th></th>\n",
              "    </tr>\n",
              "  </thead>\n",
              "  <tbody>\n",
              "    <tr>\n",
              "      <th>0</th>\n",
              "      <td>5163</td>\n",
              "    </tr>\n",
              "    <tr>\n",
              "      <th>1</th>\n",
              "      <td>5163</td>\n",
              "    </tr>\n",
              "  </tbody>\n",
              "</table>\n",
              "</div><br><label><b>dtype:</b> int64</label>"
            ]
          },
          "metadata": {},
          "execution_count": 25
        }
      ]
    },
    {
      "cell_type": "code",
      "source": [
        "#Aca podemos ver el undersample que nos deja con bastantes menos registros y podria afectar el resultado del modelo\n",
        "undersample=NearMiss(version=3)\n",
        "X_bal_under,y_bal_under=undersample.fit_resample(X,y)\n",
        "y_bal_under.value_counts()"
      ],
      "metadata": {
        "colab": {
          "base_uri": "https://localhost:8080/",
          "height": 178
        },
        "id": "xdGAfhUFKPLP",
        "outputId": "35834895-945a-4d84-eb55-7ab72fd250be"
      },
      "execution_count": 27,
      "outputs": [
        {
          "output_type": "execute_result",
          "data": {
            "text/plain": [
              "perdida\n",
              "0    1869\n",
              "1    1869\n",
              "Name: count, dtype: int64"
            ],
            "text/html": [
              "<div>\n",
              "<style scoped>\n",
              "    .dataframe tbody tr th:only-of-type {\n",
              "        vertical-align: middle;\n",
              "    }\n",
              "\n",
              "    .dataframe tbody tr th {\n",
              "        vertical-align: top;\n",
              "    }\n",
              "\n",
              "    .dataframe thead th {\n",
              "        text-align: right;\n",
              "    }\n",
              "</style>\n",
              "<table border=\"1\" class=\"dataframe\">\n",
              "  <thead>\n",
              "    <tr style=\"text-align: right;\">\n",
              "      <th></th>\n",
              "      <th>count</th>\n",
              "    </tr>\n",
              "    <tr>\n",
              "      <th>perdida</th>\n",
              "      <th></th>\n",
              "    </tr>\n",
              "  </thead>\n",
              "  <tbody>\n",
              "    <tr>\n",
              "      <th>0</th>\n",
              "      <td>1869</td>\n",
              "    </tr>\n",
              "    <tr>\n",
              "      <th>1</th>\n",
              "      <td>1869</td>\n",
              "    </tr>\n",
              "  </tbody>\n",
              "</table>\n",
              "</div><br><label><b>dtype:</b> int64</label>"
            ]
          },
          "metadata": {},
          "execution_count": 27
        }
      ]
    },
    {
      "cell_type": "markdown",
      "source": [
        "# Evaluacion de modelos"
      ],
      "metadata": {
        "id": "-eBP5o3qKvUg"
      }
    },
    {
      "cell_type": "code",
      "source": [
        "# Dividir los datos balanceados en conjuntos de entrenamiento y prueba\n",
        "X_train, X_test, y_train, y_test = train_test_split(X_bal_over, y_bal_over, random_state=42)\n",
        "\n",
        "\n",
        "# Inicializar modelos\n",
        "dummy = DummyClassifier(random_state=5) # Mantener random_state para reproducibilidad\n",
        "modelo_arbol = DecisionTreeClassifier(random_state=5) # Mantener random_state para reproducibilidad\n",
        "\n",
        "# Entrenar los modelos\n",
        "dummy.fit(X_train, y_train)\n",
        "modelo_arbol.fit(X_train, y_train)\n",
        "\n",
        "# Realizar predicciones (aunque no se usan directamente para los scores de esta celda, se mantienen si se necesitan después)\n",
        "y_pred_dummy = dummy.predict(X_test)\n",
        "y_pred_arbol = modelo_arbol.predict(X_test)\n",
        "\n",
        "\n",
        "# Mostrar los scores de los modelos\n",
        "print(f'Score del Dummy Classifier: {dummy.score(X_test, y_test):.4f}')\n",
        "print(f'Score del Árbol de Decisión: {modelo_arbol.score(X_test, y_test):.4f}')"
      ],
      "metadata": {
        "colab": {
          "base_uri": "https://localhost:8080/"
        },
        "id": "2rZjYm68Ku-0",
        "outputId": "6addd2b4-50cd-42cb-db4e-eef9790dc646"
      },
      "execution_count": 42,
      "outputs": [
        {
          "output_type": "stream",
          "name": "stdout",
          "text": [
            "Score del Dummy Classifier: 0.4864\n",
            "Score del Árbol de Decisión: 0.7947\n"
          ]
        }
      ]
    }
  ]
}