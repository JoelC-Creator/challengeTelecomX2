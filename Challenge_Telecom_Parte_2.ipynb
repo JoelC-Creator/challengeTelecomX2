{
  "nbformat": 4,
  "nbformat_minor": 0,
  "metadata": {
    "colab": {
      "provenance": []
    },
    "kernelspec": {
      "name": "python3",
      "display_name": "Python 3"
    },
    "language_info": {
      "name": "python"
    }
  },
  "cells": [
    {
      "cell_type": "markdown",
      "source": [
        "# Subiendo archivos e importando bibliotecas"
      ],
      "metadata": {
        "id": "KC6dxOaL4-PV"
      }
    },
    {
      "cell_type": "code",
      "execution_count": 1,
      "metadata": {
        "id": "eClRvgoq474J"
      },
      "outputs": [],
      "source": [
        "import pandas as pd"
      ]
    },
    {
      "cell_type": "code",
      "source": [
        "df = pd.read_csv('/content/datos_tratados.csv')"
      ],
      "metadata": {
        "id": "7B8xO28i5SqN"
      },
      "execution_count": 2,
      "outputs": []
    },
    {
      "cell_type": "code",
      "source": [
        "df.info()"
      ],
      "metadata": {
        "colab": {
          "base_uri": "https://localhost:8080/"
        },
        "id": "MsRKakCs5fr3",
        "outputId": "1b4646c9-e003-462a-9c9c-7df9d144f4fb"
      },
      "execution_count": 3,
      "outputs": [
        {
          "output_type": "stream",
          "name": "stdout",
          "text": [
            "<class 'pandas.core.frame.DataFrame'>\n",
            "RangeIndex: 7043 entries, 0 to 7042\n",
            "Data columns (total 22 columns):\n",
            " #   Column                   Non-Null Count  Dtype  \n",
            "---  ------                   --------------  -----  \n",
            " 0   id_cliente               7043 non-null   object \n",
            " 1   perdida                  7043 non-null   int64  \n",
            " 2   genero                   7043 non-null   object \n",
            " 3   ciudadano_Mayor          7043 non-null   int64  \n",
            " 4   socio                    7043 non-null   int64  \n",
            " 5   dependientes             7043 non-null   int64  \n",
            " 6   antiguedad               7043 non-null   int64  \n",
            " 7   servicio_telefonico      7043 non-null   int64  \n",
            " 8   lineas_multiples         7043 non-null   object \n",
            " 9   servicio_internet        7043 non-null   object \n",
            " 10  seguridad_online         7043 non-null   object \n",
            " 11  copia_seguridad_online   7043 non-null   object \n",
            " 12  proteccion_dispositivo   7043 non-null   object \n",
            " 13  soporte_tecnico          7043 non-null   object \n",
            " 14  streaming_tv             7043 non-null   object \n",
            " 15  streaming_peliculas      7043 non-null   object \n",
            " 16  contrato                 7043 non-null   object \n",
            " 17  facturacion_electronica  7043 non-null   int64  \n",
            " 18  metodo_pago              7043 non-null   object \n",
            " 19  cargos_mensuales         7043 non-null   float64\n",
            " 20  cargos_totales           7032 non-null   float64\n",
            " 21  cargos_diarios           7043 non-null   float64\n",
            "dtypes: float64(3), int64(7), object(12)\n",
            "memory usage: 1.2+ MB\n"
          ]
        }
      ]
    },
    {
      "cell_type": "markdown",
      "source": [
        "# Se elimina la informacion y columnas irrelevantes"
      ],
      "metadata": {
        "id": "LWoG62p25G_a"
      }
    }
  ]
}